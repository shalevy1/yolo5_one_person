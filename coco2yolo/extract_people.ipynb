{
 "cells": [
  {
   "cell_type": "code",
   "execution_count": 21,
   "metadata": {},
   "outputs": [],
   "source": [
    "import os\n",
    "from PIL import Image\n",
    "import pandas as pd\n",
    "import numpy as np\n",
    "from pathlib import Path\n",
    "import json\n",
    "from tqdm import tqdm"
   ]
  },
  {
   "cell_type": "code",
   "execution_count": 22,
   "metadata": {},
   "outputs": [],
   "source": [
    "COCO_ROOT = Path('/home/mwieczorek/data/coco-dataset/')\n",
    "COCO_ANNOS = COCO_ROOT.joinpath('annotations') \n",
    "MODE = 'val'  # 'val' or 'train'\n",
    "json_path = COCO_ANNOS/f'instances_{MODE}2017.json'"
   ]
  },
  {
   "cell_type": "markdown",
   "metadata": {},
   "source": [
    "### Using dataframe, but there is no need"
   ]
  },
  {
   "cell_type": "code",
   "execution_count": 23,
   "metadata": {},
   "outputs": [],
   "source": [
    "j = json.load(open(json_path, 'r'))\n",
    "# print(j['categories'])\n",
    "# df = pd.DataFrame(j['annotations'])\n",
    "# df_person = df.loc[df['category_id'] == 1]\n",
    "# person_image_ids = df_person['image_id'].values"
   ]
  },
  {
   "cell_type": "markdown",
   "metadata": {},
   "source": [
    "### Use PyCocotools"
   ]
  },
  {
   "cell_type": "code",
   "execution_count": 24,
   "metadata": {},
   "outputs": [],
   "source": [
    "import pycocotools as pyc\n",
    "from pycocotools.coco import COCO"
   ]
  },
  {
   "cell_type": "code",
   "execution_count": 25,
   "metadata": {},
   "outputs": [
    {
     "name": "stdout",
     "output_type": "stream",
     "text": [
      "loading annotations into memory...\n",
      "Done (t=0.30s)\n",
      "creating index...\n",
      "index created!\n"
     ]
    }
   ],
   "source": [
    "coco = COCO(json_path)"
   ]
  },
  {
   "cell_type": "code",
   "execution_count": 26,
   "metadata": {},
   "outputs": [],
   "source": [
    "personCatId = coco.getCatIds('person')\n",
    "personAnnIds = coco.getAnnIds(catIds=personCatId)\n",
    "personImgIds = coco.getImgIds(catIds=personCatId);"
   ]
  },
  {
   "cell_type": "code",
   "execution_count": 27,
   "metadata": {},
   "outputs": [],
   "source": [
    "personAnnos = [coco.anns[i] for i in personAnnIds]\n",
    "personImgs = [coco.imgs[i] for i in personImgIds]"
   ]
  },
  {
   "cell_type": "markdown",
   "metadata": {},
   "source": [
    "#### Remove segmentation from the annotations"
   ]
  },
  {
   "cell_type": "code",
   "execution_count": 28,
   "metadata": {},
   "outputs": [],
   "source": [
    "[item.pop('segmentation') for item in personAnnos];"
   ]
  },
  {
   "cell_type": "markdown",
   "metadata": {},
   "source": [
    "### Wrap person annos in COCO format"
   ]
  },
  {
   "cell_type": "code",
   "execution_count": 29,
   "metadata": {},
   "outputs": [],
   "source": [
    "from coco_format_utils import COCO_json"
   ]
  },
  {
   "cell_type": "code",
   "execution_count": 30,
   "metadata": {},
   "outputs": [],
   "source": [
    "coco_json = COCO_json('', '','','',None)"
   ]
  },
  {
   "cell_type": "code",
   "execution_count": 31,
   "metadata": {},
   "outputs": [],
   "source": [
    "personCat = j['categories'][0]\n",
    "personCat['id'] = 0  ### Obejct categories needs to start at 0!"
   ]
  },
  {
   "cell_type": "code",
   "execution_count": 32,
   "metadata": {},
   "outputs": [],
   "source": [
    "personInfo = coco_json.create_info(year=2020, version=0.1, desc='', contr='', url='', datetime='')"
   ]
  },
  {
   "cell_type": "code",
   "execution_count": 33,
   "metadata": {},
   "outputs": [],
   "source": [
    "personLicense = coco_json.create_license()"
   ]
  },
  {
   "cell_type": "code",
   "execution_count": 34,
   "metadata": {},
   "outputs": [],
   "source": [
    "json_data = {\n",
    "            'info': personInfo,\n",
    "            'images': personImgs,\n",
    "            'annotations': personAnnos,\n",
    "            'categories': personCat,\n",
    "            'licenses': personLicense\n",
    "        }"
   ]
  },
  {
   "cell_type": "code",
   "execution_count": 35,
   "metadata": {},
   "outputs": [],
   "source": [
    "with open(COCO_ANNOS/f'person_annotations_{MODE}.json', 'w') as f:\n",
    "    json.dump(json_data, f)"
   ]
  },
  {
   "cell_type": "markdown",
   "metadata": {},
   "source": [
    "### Copy person Images to a separate folder"
   ]
  },
  {
   "cell_type": "code",
   "execution_count": 16,
   "metadata": {},
   "outputs": [],
   "source": [
    "import shutil\n",
    "PERSON_IMGS_DIR = COCO_ROOT/f'person_{MODE}'\n",
    "PERSON_IMGS_DIR.mkdir(parents=True, exist_ok=True)\n",
    "COCO_IMGS_DIR = COCO_ROOT/f'{MODE}2017'"
   ]
  },
  {
   "cell_type": "code",
   "execution_count": 17,
   "metadata": {},
   "outputs": [
    {
     "name": "stderr",
     "output_type": "stream",
     "text": [
      "100%|██████████| 2693/2693 [00:00<00:00, 6113.79it/s]\n"
     ]
    }
   ],
   "source": [
    "for item in tqdm(personImgs):\n",
    "    fname = item['file_name']\n",
    "    src = os.path.join(COCO_IMGS_DIR, fname)\n",
    "    target = PERSON_IMGS_DIR.joinpath(fname)\n",
    "    if target.is_file():\n",
    "        continue\n",
    "    shutil.copy(src, target)"
   ]
  }
 ],
 "metadata": {
  "kernelspec": {
   "display_name": "Python [conda env:yolov5]",
   "language": "python",
   "name": "conda-env-yolov5-py"
  },
  "language_info": {
   "codemirror_mode": {
    "name": "ipython",
    "version": 3
   },
   "file_extension": ".py",
   "mimetype": "text/x-python",
   "name": "python",
   "nbconvert_exporter": "python",
   "pygments_lexer": "ipython3",
   "version": "3.8.5"
  }
 },
 "nbformat": 4,
 "nbformat_minor": 4
}
